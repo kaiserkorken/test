{
 "cells": [
  {
   "cell_type": "markdown",
   "id": "badfa22b-4dda-4f38-8517-62ffc2eb6a04",
   "metadata": {
    "pycharm": {
     "name": "#%% md\n"
    }
   },
   "source": [
    "# Physikalisch sinvolle Randbedingungen und andere Konstanten\n",
    "\n",
    "Für die Simulationen der Fußbodenheizungen werden diverse Natur-, Material- und andere Konstanten sowie Randbedingungen benötigt, um die (Anfangs-)Randwertprobleme richtig formululieren und lösen zu können.\n",
    "\n",
    "Diese sollten entsprechend diskutiert, dokumentiert und/oder belegbar sein.\n",
    "\n",
    "Zu dem Zweck kann (vorerst) dieses Jupyter-Notebook dienen, um tatsächliche Konstanten für den Code und die Quellen/Diskussionen an einem Ort zu verbinden.\n",
    "\n",
    "## Schnittstelle\n",
    "\n",
    "Ich schlage als Schnittstelle das JSON-Format vor, was menschlich lesbare Dateien aus Python-Datentypen erzeugen und wieder einlesen kann. So sind auch portable \"Szenarien\" denkbar, die außerhalb des Solvers erstellt werden können."
   ]
  },
  {
   "cell_type": "code",
   "execution_count": 1,
   "id": "5e23a044-4cb1-4e5a-b15f-8cffcb36d4e2",
   "metadata": {
    "pycharm": {
     "is_executing": true,
     "name": "#%%\n"
    }
   },
   "outputs": [],
   "source": [
    "import json\n",
    "import numpy as np\n",
    "#import dolfin as dlfn"
   ]
  },
  {
   "cell_type": "markdown",
   "id": "671b829d",
   "metadata": {
    "pycharm": {
     "name": "#%% md\n"
    }
   },
   "source": [
    "## Wärmeleitfähigkeiten\n",
    "\n",
    "Die für die Simulation benötigten Wärmeleitfähigkeiten wurden aus den folgenden Quellen übernommen:\n",
    "\n",
    "    \"copper\": dlfn.Constant(384),\n",
    "    \"screed\": dlfn.Constant(1.4),\n",
    "    \"concrete\": dlfn.Constant(2.1),\n",
    "- **Eiche:** https://www.schweizer-fn.de/stoff/wleit_isolierung/wleit_isolierung.php\n",
    "- **Styropor:** https://www.energieheld.de/daemmung/daemmstoffe/styropor-eps#eigenschaften\n",
    "- **PUR/PIR Platten Alukaschiert:** https://www.baudiscount-paderborn.de/PUR-/-PIR-Daemmung-WLG-023-alukaschiert\n",
    "    \"cork\": dlfn.Constant(0.05),"
   ]
  },
  {
   "cell_type": "code",
   "execution_count": 2,
   "id": "6bd4bc94",
   "metadata": {
    "collapsed": false,
    "jupyter": {
     "outputs_hidden": false
    },
    "pycharm": {
     "is_executing": true,
     "name": "#%%\n"
    }
   },
   "outputs": [
    {
     "name": "stdout",
     "output_type": "stream",
     "text": [
      "{\"copper\": 384, \"screed\": 1.4, \"concrete\": 2.1, \"wood\": 0.2, \"polystyrene\": 0.032, \"pur_alukaschiert\": 0.023, \"cork\": 0.05}\n"
     ]
    }
   ],
   "source": [
    "thermal_conductivities = {\n",
    "    \"copper\"            : 384, # Kupfer\n",
    "    \"screed\"            : 1.4, # Estrich\n",
    "    \"concrete\"          : 2.1, # Beton\n",
    "    \"wood\"              : 0.2, # Eiche:\n",
    "    \"polystyrene\"       : 0.032, # Styropor\n",
    "    \"pur_alukaschiert\"  : 0.023, # PUR/PIR Platten Alukaschiert\n",
    "    \"cork\"              : 0.05, # Kork\n",
    "}\n",
    "\n",
    "with open('thermal_conductivities.json', 'w') as file:\n",
    "    print(json.dumps(thermal_conductivities))\n",
    "    json.dump(thermal_conductivities, file, ensure_ascii=False)\n"
   ]
  },
  {
   "cell_type": "markdown",
   "id": "a3cc53e6-58be-41c2-a968-7f470082c0d8",
   "metadata": {},
   "source": [
    "## Verlegeabstand und Rohrdurchmesser\n",
    "\n",
    "\n",
    "\"Ein „dickes“ Rohr mit 17 mm Außendurchmesser bietet dem Estrich allerdings mehr Fläche zur Wärmeübernahme pro laufenden Meter (533,8 cm²) als ein „dünnes“ Rohr mit nur 12 mm (376,8 cm²). Bei größeren Rohrdurchmessern könnte man möglicherweise den Verlegabstand verringern. Bei Fußbodenheizungen mit Wärmepumpe werden „dicke“ Rohrleitungen empfohlen, da hier mit niedrigen Vorlauftemperaturen gearbeitet wird. Ansonsten fällt bei Fußbodenheizungen mit Wärmepumpe der Verlegeabstand, abhängig vom Wärmebedarf des Raumes, in der Regel geringer aus, als bei anderen Wärmeerzeugern. Die Empfehlung liegt hier bei einem Verlegeabstand von 10 cm.\n",
    "\n",
    "Fußbodenheizungen mit anderen Wärmeerzeugern, wie Gas, Holz, Pellets oder Öl, arbeiten mit höheren Vorlauftemperaturen. Der Verlegeabstand kann hier größer gewählt werden. Empfohlen wird hier ein Verlegeabstand von 15 cm – je nach Wärmebedarf des Raumes.\"\n",
    "\n",
    "**Letzendlich können für Außendurchmesser der Heizrohre also Werte im Bereich von 12 bis 17 mm angenommen werden.**\n",
    "\n",
    "**Für die Verlegeabstände liegen empfohlene Werte zwischen 10 und 15 cm.**\n",
    "\n",
    "\n",
    "Quelle: https://www.heizsparer.de/heizung/heizkorper/fussbodenheizung/fussbodenheizung-planen-heizkreise-berechnen"
   ]
  },
  {
   "cell_type": "markdown",
   "id": "8758c308-1d85-4ce8-85b7-b2ccd91352f7",
   "metadata": {},
   "source": [
    "## Materialstärken\n",
    "\n",
    "- Trittschall- und Wärmedämmung: 15 mm - 50 mm\n",
    "- Rohrstärke: 16 mm\n",
    "- Fließestrich: 35 mm\n",
    "- Zementestrich: 45 mm\n",
    "\n",
    "führt zu:\n",
    "- Min. Aufbauhöhe mit Fließestrich: 66 mm - 96 mm\n",
    "- Min. Aufbauhöhe mit Zementestrich: 76 mm - 106 mm\n",
    "\n",
    "Gesamtaufbauhöhe = Dämmstärke Systemplatte + Rohrstärke + Rohrüberdeckung\n",
    "\n",
    "\n",
    "### Bodenbeläge\n",
    "\n",
    "\"Der Wert fließt laut Gebäude-Energie-Gesetz (GEG) sogar gesetzlich in die Berechnung des Energiebedarfs eines Gebäudes mit ein. Deshalb ist auch die Berechnung des Wärmedurchlasswiderstands in der ISO 6946:2005-06 Abschnitt 6.2 genormt:\n",
    "\n",
    "Der Wärmedurchlasswiderstand (R) errechnet sich aus dem Quotienten der Dicke (d) und der Wärmeleitfähigkeit (ƛ – Lambda) des Materials.\n",
    "\n",
    "Bei Bodenbelägen die aus mehreren unterschiedlichen Materialien oder Schichten bestehen, addieren sich deren Wärmedurchlasswiderstände.\"\n",
    "\n",
    "\\begin{table}[]\n",
    "\\begin{tabular}{lll}\n",
    "\\textbf{Material} & \\textbf{Stärke} & \\textbf{Wärmedurchlass in m²K/W} \\\\\n",
    "Keramikfliesen    & 13mm            & 0,012                            \\\\\n",
    "Korkparkett       & 11mm            & 0,129                            \\\\\n",
    "Kunststoff-PVC    & 2mm             & 0,01                             \\\\\n",
    "Kunststoff-Vinyl  & 3mm             & 0,015                            \\\\\n",
    "Laminat           & 9mm             & 0,044                            \\\\\n",
    "Linoleum          & 2,5mm           & 0,015                            \\\\\n",
    "Marmorplatten     & 30mm            & 0,014                            \\\\\n",
    "Mosaikparkett     & 8mm             & 0,038                            \\\\\n",
    "Naturstein        & 20mm            & 0,017                            \\\\\n",
    "Nadelvlies        & 6,5mm           & 0,12                             \\\\\n",
    "Stabparkett       & 22mm            & 0,105                            \\\\\n",
    "Teppich           & 8mm             & 0,1                             \n",
    "\\end{tabular}\n",
    "\\end{table}\n",
    "\n",
    "Quellen: \n",
    "- https://www.selfio.de/heizung/fussbodenheizung/ratgeber/aufbauhoehe/\n",
    "- https://www.warmupdeutschland.de/blog/bodenbelaege-fuer-fussbodenheizung-wie-gut-eignen-sich-vinyl-fliesen-oder-teppich\n",
    "- https://www.heizsparer.de/heizung/heizkorper/fussbodenheizung/passender-bodenbelag"
   ]
  },
  {
   "cell_type": "markdown",
   "id": "894409c4-e445-4484-a4c3-e85ab016a304",
   "metadata": {},
   "source": [
    "## Verwendete Materialien\n",
    "\n",
    "### Heizrohre\n",
    "Für die Rohre sind drei Materialien verbreitet:\n",
    "\n",
    "- Polyethylen PE-X\n",
    "- PE-X mit Aluminium-Zwischenschicht\n",
    "- Kupfer\n",
    "\n",
    "\"Im oder unter dem Heizestrich werden Rohre aus überwiegend Kunststoff oder seltener aus Kupfer verlegt. Der am meisten verwendete Kunststoff ist das vernetzte, sauerstoffdichte Polyethylen (PE-X), oft mit zusätzlicher Aluminium-Zwischenschicht.\"\n",
    "\n",
    "Quelle: https://www.heizsparer.de/heizung/heizkorper/fussbodenheizung/funktionsweise\n",
    "\n",
    "### Bodenbeläge\n",
    "\n",
    "- Fliesen-, Stein- und polierte Estrichböden\n",
    "- Holz- und Dielenböden\n",
    "- Laminatböden\n",
    "- Vinyl-Böden\n",
    "- Teppichböden\n",
    "- Gummiböden\n",
    "\n",
    "Quelle: https://www.warmupdeutschland.de/blog/bodenbelaege-fuer-fussbodenheizung-wie-gut-eignen-sich-vinyl-fliesen-oder-teppich\n"
   ]
  },
  {
   "cell_type": "code",
   "execution_count": null,
   "id": "dcacd175-b0b6-4530-aa88-f1a886f72888",
   "metadata": {},
   "outputs": [],
   "source": []
  },
  {
   "cell_type": "markdown",
   "id": "bd030291-247f-49a5-83eb-a72eb7ca33ba",
   "metadata": {
    "pycharm": {
     "name": "#%% md\n"
    }
   },
   "source": [
    "## Raumtemperaturen\n",
    "\n",
    "Für die Wahl der richtigen Raumtemperatur existieren diverse Vorschläge und Richtlinien. Zum Beispiel vom Umweltbundesamt:\n",
    "\n",
    "- Wohnzimmer: 20 bis 23 °C \n",
    "- Schlafzimmer: 17 bis maximal 20 °C\n",
    "- Kinderzimmer: 20 bis 22 °C, nachts 18 °C\n",
    "- Küche: 18 °C\n",
    "- Esszimmer: 20 °C\n",
    "- Badezimmer: 23 °C\n",
    "- Büro: 20 bis 22 °C\n",
    "\n",
    "Quelle: https://www.umweltbundesamt.de/umwelttipps-fuer-den-alltag/heizen-bauen/heizen-raumtemperatur#gewusst-wie\n",
    "\n",
    "Im Zusammenhang der drohenden Gasknappheit werden jedoch auch kältere Mindestemperaturen diskutiert:\n",
    "\n",
    "- Tagsüber: 18 °C\n",
    "- Nachts: 16 °C\n",
    "\n",
    "Quelle: https://www.tagesschau.de/wirtschaft/verbraucher/gas-sparen-heizen-101.html\n",
    "\n",
    "Quelle: https://www.heizsparer.de/heizung/heizkorper/fussbodenheizung/fussbodenheizung-planen-heizkreise-berechnen\n",
    "\"Nach DIN EN 1264 gibt es Grenzen in Bezug auf die Oberflächentemperatur bei Betrieb einer Fußbodenheizung. Diese liegt für eine Aufenthaltszone bei 29°C. Das Verhältnis von 29°C Oberflächentemperatur zu 20°C Raumtemperatur ergibt ziemlich genau eine Heizleistung von 100 Watt pro Quadratmeter. Dabei spielt es keine Rolle, ob Kupferrohr oder PE-Rohr für die Fußbodenheizung verwendet wurde. Es ist auch egal, welchen Wärmeerzeuger man verwendet – die Begrenzung der Oberflächentemperatur ist fix.\n",
    "\n",
    "Moderne Häuser benötigen die Heizleistung von 100 W/m² in der Regel nicht, sondern kommen mit etwa 40 W/m² aus. Dann betragen die Oberflächentemperaturen im Auslegungsfall, also bei -12°C Außentemperatur nur noch 24°C\""
   ]
  },
  {
   "cell_type": "markdown",
   "id": "a409dc36-b0ed-4515-b81e-2decd4e9816e",
   "metadata": {
    "pycharm": {
     "name": "#%% md\n"
    }
   },
   "source": [
    "Als mögliche Temperaturen können somit vorerst Temperaturen von 16 bis 23 °C untersucht werden:"
   ]
  },
  {
   "cell_type": "code",
   "execution_count": 3,
   "id": "1fff2c32-6dd0-49d5-9597-93cb07bc3a4d",
   "metadata": {
    "pycharm": {
     "name": "#%%\n"
    }
   },
   "outputs": [
    {
     "name": "stdout",
     "output_type": "stream",
     "text": [
      "{\"minimum_temp_night\": 16, \"minimum_temp_day\": 18, \"living_room_min\": 20, \"living_room_max\": 23}\n"
     ]
    }
   ],
   "source": [
    "room_temperature_list = np.arange(16, 23+1, 1).tolist()\n",
    "\n",
    "room_temperatures = {'minimum_temp_night' : 16,\n",
    "                     'minimum_temp_day'   : 18,\n",
    "                     'living_room_min'    : 20,\n",
    "                     'living_room_max'    : 23,\n",
    "}\n",
    "\n",
    "with open('room_temperatures.json', 'w') as file:\n",
    "    print(json.dumps(room_temperatures))\n",
    "    json.dump(room_temperatures, file, ensure_ascii=False)\n"
   ]
  },
  {
   "cell_type": "code",
   "execution_count": null,
   "id": "e0648389-dee2-46ca-898c-5641b1f46f28",
   "metadata": {
    "pycharm": {
     "name": "#%%\n"
    }
   },
   "outputs": [],
   "source": []
  },
  {
   "cell_type": "code",
   "execution_count": null,
   "id": "0cde9205-f00e-41aa-b61e-0e5406523a74",
   "metadata": {},
   "outputs": [],
   "source": []
  }
 ],
 "metadata": {
  "kernelspec": {
   "display_name": "Python 3 (ipykernel)",
   "language": "python",
   "name": "python3"
  },
  "language_info": {
   "codemirror_mode": {
    "name": "ipython",
    "version": 3
   },
   "file_extension": ".py",
   "mimetype": "text/x-python",
   "name": "python",
   "nbconvert_exporter": "python",
   "pygments_lexer": "ipython3",
   "version": "3.7.7"
  }
 },
 "nbformat": 4,
 "nbformat_minor": 5
}